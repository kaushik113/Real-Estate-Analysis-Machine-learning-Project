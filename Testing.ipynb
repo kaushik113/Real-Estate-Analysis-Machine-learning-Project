{
 "cells": [
  {
   "cell_type": "code",
   "execution_count": 6,
   "id": "d8246172",
   "metadata": {},
   "outputs": [
    {
     "data": {
      "text/plain": [
       "array([22.425])"
      ]
     },
     "execution_count": 6,
     "metadata": {},
     "output_type": "execute_result"
    }
   ],
   "source": [
    "import numpy as np\n",
    "from joblib import dump, load\n",
    "model = load('Kaushik_Real_Estates.joblib')\n",
    "input = np.array([[-0.43942006,  7.12628155, -1.12165014, -0.27288841, -1.42262747,\n",
    "       -0.23979304, -1.31238772,  2.61111401, -1.0016859 , -0.5778192 ,\n",
    "       -0.97491834,  0.41164221, -0.86091034]])\n",
    "model.predict(input)"
   ]
  },
  {
   "cell_type": "code",
   "execution_count": 5,
   "id": "ae56e4ae",
   "metadata": {},
   "outputs": [
    {
     "data": {
      "text/plain": [
       "array([22.425])"
      ]
     },
     "execution_count": 5,
     "metadata": {},
     "output_type": "execute_result"
    }
   ],
   "source": []
  },
  {
   "cell_type": "code",
   "execution_count": null,
   "id": "7bd3e1ab",
   "metadata": {},
   "outputs": [],
   "source": []
  }
 ],
 "metadata": {
  "kernelspec": {
   "display_name": "Python 3 (ipykernel)",
   "language": "python",
   "name": "python3"
  },
  "language_info": {
   "codemirror_mode": {
    "name": "ipython",
    "version": 3
   },
   "file_extension": ".py",
   "mimetype": "text/x-python",
   "name": "python",
   "nbconvert_exporter": "python",
   "pygments_lexer": "ipython3",
   "version": "3.7.5"
  }
 },
 "nbformat": 4,
 "nbformat_minor": 5
}
